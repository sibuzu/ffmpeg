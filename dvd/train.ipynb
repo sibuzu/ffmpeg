{
 "cells": [
  {
   "cell_type": "code",
   "execution_count": 1,
   "metadata": {},
   "outputs": [],
   "source": [
    "%matplotlib inline\n",
    "import matplotlib.pyplot as plt\n",
    "\n",
    "import numpy as np\n",
    "from PIL import Image\n",
    "import sys\n",
    "import os\n",
    "import glob\n",
    "import shutil"
   ]
  },
  {
   "cell_type": "code",
   "execution_count": 2,
   "metadata": {},
   "outputs": [
    {
     "data": {
      "application/javascript": [
       "IPython.OutputArea.prototype._should_scroll = function(lines) {\n",
       "    return false;\n",
       "}\n"
      ],
      "text/plain": [
       "<IPython.core.display.Javascript object>"
      ]
     },
     "metadata": {},
     "output_type": "display_data"
    }
   ],
   "source": [
    "%%javascript\n",
    "IPython.OutputArea.prototype._should_scroll = function(lines) {\n",
    "    return false;\n",
    "}"
   ]
  },
  {
   "cell_type": "code",
   "execution_count": 3,
   "metadata": {},
   "outputs": [
    {
     "data": {
      "text/plain": [
       "(device(type='cuda'),\n",
       " {'num_workers': 2, 'pin_memory': True},\n",
       " '1.4.0',\n",
       " '3.7.4 (default, Aug  9 2019, 18:34:13) [MSC v.1915 64 bit (AMD64)]')"
      ]
     },
     "execution_count": 3,
     "metadata": {},
     "output_type": "execute_result"
    }
   ],
   "source": [
    "import torch\n",
    "import torch.nn as nn\n",
    "import torch.nn.functional as F\n",
    "import torch.optim as optim\n",
    "import torch.utils.data as Data\n",
    "\n",
    "use_cuda = True\n",
    "use_cuda = use_cuda and torch.cuda.is_available()\n",
    "device = torch.device(\"cuda\" if use_cuda else \"cpu\")\n",
    "kwargs = {'num_workers': 2, 'pin_memory': True} if use_cuda else {}\n",
    "device, kwargs, torch.__version__, sys.version"
   ]
  },
  {
   "cell_type": "code",
   "execution_count": 4,
   "metadata": {},
   "outputs": [],
   "source": [
    "files = glob.glob(\"CCY1/*\")\n",
    "# files"
   ]
  },
  {
   "cell_type": "code",
   "execution_count": 5,
   "metadata": {},
   "outputs": [],
   "source": [
    "x = Image.open(files[44])"
   ]
  },
  {
   "cell_type": "code",
   "execution_count": 6,
   "metadata": {},
   "outputs": [
    {
     "data": {
      "image/png": "[encoded data removed]",
      "text/plain": [
       "<Figure size 432x288 with 3 Axes>"
      ]
     },
     "metadata": {
      "needs_background": "light"
     },
     "output_type": "display_data"
    }
   ],
   "source": [
    "def normalize(x):\n",
    "    x = x.convert(\"YCbCr\")\n",
    "    im = np.array(x, dtype=np.float)\n",
    "    a = -0.5\n",
    "    b = 0.5\n",
    "    y = np.zeros([im.shape[2], im.shape[0], im.shape[1]], dtype=np.float)\n",
    "    for i in range(3):\n",
    "        minimum = np.min(im[:,:,i])\n",
    "        maximum = np.max(im[:,:,i])\n",
    "        delta = max(maximum - minimum, 0.01)\n",
    "        y[i,:,:] = a + ((im[:,:,i] - minimum) * (b - a)) / delta\n",
    "        # print(minimum, maximum)\n",
    "    return y\n",
    "\n",
    "im = normalize(x)\n",
    "\n",
    "plt.subplots(3, 1)\n",
    "for i in range(3):\n",
    "    plt.subplot(3, 1, i + 1)\n",
    "    plt.imshow(im[i,:,:], cmap='gray')"
   ]
  },
  {
   "cell_type": "code",
   "execution_count": 7,
   "metadata": {},
   "outputs": [
    {
     "data": {
      "text/plain": [
       "0.5"
      ]
     },
     "execution_count": 7,
     "metadata": {},
     "output_type": "execute_result"
    }
   ],
   "source": [
    "np.max(im[1,:,:])"
   ]
  },
  {
   "cell_type": "code",
   "execution_count": 8,
   "metadata": {},
   "outputs": [
    {
     "data": {
      "text/plain": [
       "Net(\n",
       "  (cnn): Sequential(\n",
       "    (0): Conv2d(3, 32, kernel_size=(3, 3), stride=(1, 1))\n",
       "    (1): ReLU()\n",
       "    (2): Conv2d(32, 64, kernel_size=(5, 5), stride=(1, 1))\n",
       "    (3): ReLU()\n",
       "    (4): MaxPool2d(kernel_size=2, stride=2, padding=0, dilation=1, ceil_mode=False)\n",
       "    (5): Dropout(p=0.5, inplace=False)\n",
       "  )\n",
       "  (mlp): Sequential(\n",
       "    (0): Linear(in_features=64064, out_features=128, bias=True)\n",
       "    (1): ReLU()\n",
       "    (2): Dropout(p=0.5, inplace=False)\n",
       "    (3): Linear(in_features=128, out_features=1, bias=True)\n",
       "  )\n",
       ")"
      ]
     },
     "execution_count": 8,
     "metadata": {},
     "output_type": "execute_result"
    }
   ],
   "source": [
    "class Net(nn.Module):\n",
    "    def __init__(self):\n",
    "        super(Net, self).__init__()\n",
    "        self.cnn = nn.Sequential(\n",
    "            nn.Conv2d(3, 32, 3),\n",
    "            nn.ReLU(),\n",
    "            nn.Conv2d(32, 64, 5),\n",
    "            nn.ReLU(),\n",
    "            nn.MaxPool2d(2),\n",
    "            nn.Dropout(0.50),\n",
    "        )\n",
    "        self.mlp = nn.Sequential(\n",
    "            nn.Linear(64064, 128),\n",
    "            nn.ReLU(),\n",
    "            nn.Dropout(0.5),\n",
    "            nn.Linear(128, 1),\n",
    "        )\n",
    "        self.optimizer = optim.Adam(self.parameters())\n",
    "        self.loss = None\n",
    "\n",
    "    def forward(self, x):\n",
    "        x = self.cnn(x)\n",
    "        x = x.view(-1, 64064)\n",
    "        x = self.mlp(x)\n",
    "        return x\n",
    "\n",
    "    def train_data(self, data, target):\n",
    "        self.optimizer.zero_grad()\n",
    "        output = self.forward(data)\n",
    "        self.loss = nn.functional.binary_cross_entropy_with_logits(output, target)\n",
    "        self.loss.backward()\n",
    "        self.optimizer.step()\n",
    "\n",
    "model = Net().to(device)\n",
    "model"
   ]
  },
  {
   "cell_type": "code",
   "execution_count": 9,
   "metadata": {},
   "outputs": [
    {
     "name": "stdout",
     "output_type": "stream",
     "text": [
      "model.mdl\n"
     ]
    }
   ],
   "source": [
    "MODEL_NAME = \"model.mdl\"\n",
    "if os.path.isfile(MODEL_NAME):\n",
    "    print(MODEL_NAME)\n",
    "    model.load_state_dict(torch.load(MODEL_NAME))"
   ]
  },
  {
   "cell_type": "code",
   "execution_count": 10,
   "metadata": {},
   "outputs": [
    {
     "data": {
      "text/plain": [
       "(3, 32, 160)"
      ]
     },
     "execution_count": 10,
     "metadata": {},
     "output_type": "execute_result"
    }
   ],
   "source": [
    "im.shape"
   ]
  },
  {
   "cell_type": "code",
   "execution_count": 11,
   "metadata": {},
   "outputs": [],
   "source": [
    "x = torch.randn(64, 3, 32, 160).to(device)\n",
    "y = model.forward(x)"
   ]
  },
  {
   "cell_type": "code",
   "execution_count": 12,
   "metadata": {},
   "outputs": [],
   "source": [
    "TRAIN_MODEL = False\n",
    "\n",
    "if TRAIN_MODEL:\n",
    "    # read training data\n",
    "    ccfiles = glob.glob(\"CCY1/*.jpg\")\n",
    "    ncfiles = glob.glob(\"CCN1/*.jpg\")\n",
    "\n",
    "    n1 = len(ccfiles)\n",
    "    n2 = len(ncfiles)\n",
    "    n1, n2"
   ]
  },
  {
   "cell_type": "code",
   "execution_count": 13,
   "metadata": {},
   "outputs": [],
   "source": [
    "if TRAIN_MODEL:\n",
    "    data = np.zeros((n1+n2, 3, 32, 160), dtype=np.float)\n",
    "    target = np.zeros((n1+n2,1), dtype=np.float)\n",
    "    target[:n1] = 1\n",
    "    print(data.shape, target.shape)"
   ]
  },
  {
   "cell_type": "code",
   "execution_count": 14,
   "metadata": {},
   "outputs": [],
   "source": [
    "if TRAIN_MODEL:\n",
    "    for i in range(n1):\n",
    "        fname = ccfiles[i]\n",
    "        data[i, :, :, :] = normalize(Image.open(fname))\n",
    "    \n",
    "    for i in range(n2):\n",
    "        fname = ncfiles[i]\n",
    "        data[i+n1, :, :, :] = normalize(Image.open(fname))"
   ]
  },
  {
   "cell_type": "code",
   "execution_count": 15,
   "metadata": {},
   "outputs": [],
   "source": [
    "if TRAIN_MODEL:\n",
    "    train_set = Data.TensorDataset(torch.from_numpy(data).float(), \n",
    "                                   torch.from_numpy(target).float())\n",
    "    train_loader = Data.DataLoader(train_set, batch_size=256, shuffle=True, **kwargs)\n",
    "\n",
    "    def trainModel(model, device, train_loader, epoch):\n",
    "        model.train()\n",
    "        for batch_idx, (data, target) in enumerate(train_loader):\n",
    "            data, target = data.to(device), target.to(device)\n",
    "            model.train_data(data, target)\n",
    "\n",
    "        print('Train Epoch: {:3d} [{}]\\tLoss: {:.6f}'.format(\n",
    "            epoch + 1, len(train_loader.dataset), model.loss.item()))"
   ]
  },
  {
   "cell_type": "code",
   "execution_count": 16,
   "metadata": {},
   "outputs": [],
   "source": [
    "if TRAIN_MODEL:\n",
    "    N = 100\n",
    "    for epoch in range(N):\n",
    "        trainModel(model, device, train_loader, epoch)"
   ]
  },
  {
   "cell_type": "code",
   "execution_count": 17,
   "metadata": {},
   "outputs": [],
   "source": [
    "def predictModel(model, test):\n",
    "    model.eval()\n",
    "    with torch.no_grad():\n",
    "        testX = torch.from_numpy(test).float().to(device)\n",
    "        predict = model(testX).cpu()\n",
    "    predict = np.where(predict > 0, 1, 0)\n",
    "    return predict"
   ]
  },
  {
   "cell_type": "code",
   "execution_count": 18,
   "metadata": {},
   "outputs": [],
   "source": [
    "if TRAIN_MODEL:\n",
    "    n = len(target)\n",
    "    M = (n + 1023) // 1024\n",
    "    for i in range(M):\n",
    "        if i == M-1:\n",
    "            xdata = data[i*1024:, :, :, :]\n",
    "            xtarget = target[i*1024:]\n",
    "        else:\n",
    "            xdata = data[i*1024:(i+1)*1024, :, :, :]\n",
    "            xtarget = target[i*1024:(i+1)*1024]\n",
    "            \n",
    "        y = predictModel(model, xdata)\n",
    "        err = np.sum(np.abs(y - xtarget))\n",
    "        print(i, err)    "
   ]
  },
  {
   "cell_type": "code",
   "execution_count": 19,
   "metadata": {},
   "outputs": [],
   "source": [
    "if TRAIN_MODEL:\n",
    "    torch.save(model.state_dict(), MODEL_NAME)"
   ]
  },
  {
   "cell_type": "code",
   "execution_count": 20,
   "metadata": {},
   "outputs": [
    {
     "data": {
      "text/plain": [
       "2303"
      ]
     },
     "execution_count": 20,
     "metadata": {},
     "output_type": "execute_result"
    }
   ],
   "source": [
    "# read training data\n",
    "ccfiles = glob.glob(\"CC2/*.jpg\")\n",
    "n = len(ccfiles)\n",
    "n"
   ]
  },
  {
   "cell_type": "code",
   "execution_count": 21,
   "metadata": {},
   "outputs": [],
   "source": [
    "test = np.zeros((n, 3, 32, 160), dtype=np.float)\n",
    "for i in range(n):\n",
    "    fname = ccfiles[i]\n",
    "    test[i, :, :, :] = normalize(Image.open(fname))\n",
    "y = predictModel(model, test)"
   ]
  },
  {
   "cell_type": "code",
   "execution_count": 22,
   "metadata": {},
   "outputs": [],
   "source": [
    "for i in range(n):\n",
    "    fname = ccfiles[i]\n",
    "    if y[i] == 0:\n",
    "        outfile = \"CCN/\" + fname.replace('\\\\', '_')\n",
    "    else:\n",
    "        outfile = \"CCY/\" + fname.replace('\\\\', '_')\n",
    "    shutil.copyfile(fname, outfile)\n"
   ]
  },
  {
   "cell_type": "code",
   "execution_count": null,
   "metadata": {},
   "outputs": [],
   "source": []
  }
 ],
 "metadata": {
  "kernelspec": {
   "display_name": "Python 3",
   "language": "python",
   "name": "python3"
  },
  "language_info": {
   "codemirror_mode": {
    "name": "ipython",
    "version": 3
   },
   "file_extension": ".py",
   "mimetype": "text/x-python",
   "name": "python",
   "nbconvert_exporter": "python",
   "pygments_lexer": "ipython3",
   "version": "3.7.4"
  }
 },
 "nbformat": 4,
 "nbformat_minor": 2
}
