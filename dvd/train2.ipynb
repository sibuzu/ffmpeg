{
 "cells": [
  {
   "cell_type": "code",
   "execution_count": 1,
   "metadata": {},
   "outputs": [],
   "source": [
    "%matplotlib inline\n",
    "import matplotlib.pyplot as plt\n",
    "\n",
    "import numpy as np\n",
    "from PIL import Image\n",
    "import sys\n",
    "import os\n",
    "import glob\n",
    "import shutil"
   ]
  },
  {
   "cell_type": "code",
   "execution_count": 2,
   "metadata": {},
   "outputs": [
    {
     "data": {
      "application/javascript": [
       "IPython.OutputArea.prototype._should_scroll = function(lines) {\n",
       "    return false;\n",
       "}\n"
      ],
      "text/plain": [
       "<IPython.core.display.Javascript object>"
      ]
     },
     "metadata": {},
     "output_type": "display_data"
    }
   ],
   "source": [
    "%%javascript\n",
    "IPython.OutputArea.prototype._should_scroll = function(lines) {\n",
    "    return false;\n",
    "}"
   ]
  },
  {
   "cell_type": "code",
   "execution_count": 3,
   "metadata": {},
   "outputs": [
    {
     "data": {
      "text/plain": [
       "(device(type='cuda'),\n",
       " {'num_workers': 2, 'pin_memory': True},\n",
       " '1.4.0',\n",
       " '3.7.4 (default, Aug  9 2019, 18:34:13) [MSC v.1915 64 bit (AMD64)]')"
      ]
     },
     "execution_count": 3,
     "metadata": {},
     "output_type": "execute_result"
    }
   ],
   "source": [
    "import torch\n",
    "import torch.nn as nn\n",
    "import torch.nn.functional as F\n",
    "import torch.optim as optim\n",
    "import torch.utils.data as Data\n",
    "\n",
    "use_cuda = True\n",
    "use_cuda = use_cuda and torch.cuda.is_available()\n",
    "device = torch.device(\"cuda\" if use_cuda else \"cpu\")\n",
    "kwargs = {'num_workers': 2, 'pin_memory': True} if use_cuda else {}\n",
    "device, kwargs, torch.__version__, sys.version"
   ]
  },
  {
   "cell_type": "code",
   "execution_count": 4,
   "metadata": {},
   "outputs": [],
   "source": [
    "files = glob.glob(\"TEMP/CC/*\")\n",
    "# files"
   ]
  },
  {
   "cell_type": "code",
   "execution_count": 5,
   "metadata": {},
   "outputs": [],
   "source": [
    "x = Image.open(files[233])"
   ]
  },
  {
   "cell_type": "code",
   "execution_count": 6,
   "metadata": {},
   "outputs": [
    {
     "data": {
      "image/png": "[encoded data removed]",
      "text/plain": [
       "<Figure size 432x288 with 3 Axes>"
      ]
     },
     "metadata": {
      "needs_background": "light"
     },
     "output_type": "display_data"
    }
   ],
   "source": [
    "def normalize(x):\n",
    "    x = x.convert(\"YCbCr\")\n",
    "    im = np.array(x, dtype=np.float)\n",
    "    a = -0.5\n",
    "    b = 0.5\n",
    "    y = np.zeros([im.shape[2], im.shape[0], im.shape[1]], dtype=np.float)\n",
    "    for i in range(3):\n",
    "        minimum = np.min(im[:,:,i])\n",
    "        maximum = np.max(im[:,:,i])\n",
    "        delta = max(maximum - minimum, 0.01)\n",
    "        y[i,:,:] = a + ((im[:,:,i] - minimum) * (b - a)) / delta\n",
    "        # print(minimum, maximum)\n",
    "    return y\n",
    "\n",
    "im = normalize(x)\n",
    "\n",
    "plt.subplots(3, 1)\n",
    "for i in range(3):\n",
    "    plt.subplot(3, 1, i + 1)\n",
    "    plt.imshow(im[i,:,:], cmap='gray')"
   ]
  },
  {
   "cell_type": "code",
   "execution_count": 7,
   "metadata": {},
   "outputs": [
    {
     "data": {
      "text/plain": [
       "0.5"
      ]
     },
     "execution_count": 7,
     "metadata": {},
     "output_type": "execute_result"
    }
   ],
   "source": [
    "np.max(im[1,:,:])"
   ]
  },
  {
   "cell_type": "code",
   "execution_count": 8,
   "metadata": {},
   "outputs": [
    {
     "data": {
      "text/plain": [
       "Net(\n",
       "  (cnn): Sequential(\n",
       "    (0): Conv2d(3, 32, kernel_size=(3, 3), stride=(1, 1))\n",
       "    (1): ReLU()\n",
       "    (2): Conv2d(32, 64, kernel_size=(5, 5), stride=(1, 1))\n",
       "    (3): ReLU()\n",
       "    (4): MaxPool2d(kernel_size=2, stride=2, padding=0, dilation=1, ceil_mode=False)\n",
       "    (5): Dropout(p=0.5, inplace=False)\n",
       "  )\n",
       "  (mlp): Sequential(\n",
       "    (0): Linear(in_features=64064, out_features=128, bias=True)\n",
       "    (1): ReLU()\n",
       "    (2): Dropout(p=0.5, inplace=False)\n",
       "    (3): Linear(in_features=128, out_features=1, bias=True)\n",
       "  )\n",
       ")"
      ]
     },
     "execution_count": 8,
     "metadata": {},
     "output_type": "execute_result"
    }
   ],
   "source": [
    "class Net(nn.Module):\n",
    "    def __init__(self):\n",
    "        super(Net, self).__init__()\n",
    "        self.cnn = nn.Sequential(\n",
    "            nn.Conv2d(3, 32, 3),\n",
    "            nn.ReLU(),\n",
    "            nn.Conv2d(32, 64, 5),\n",
    "            nn.ReLU(),\n",
    "            nn.MaxPool2d(2),\n",
    "            nn.Dropout(0.50),\n",
    "        )\n",
    "        self.mlp = nn.Sequential(\n",
    "            nn.Linear(64064, 128),\n",
    "            nn.ReLU(),\n",
    "            nn.Dropout(0.5),\n",
    "            nn.Linear(128, 1),\n",
    "        )\n",
    "        self.optimizer = optim.Adam(self.parameters())\n",
    "        self.loss = None\n",
    "\n",
    "    def forward(self, x):\n",
    "        x = self.cnn(x)\n",
    "        x = x.view(-1, 64064)\n",
    "        x = self.mlp(x)\n",
    "        return x\n",
    "\n",
    "    def train_data(self, data, target):\n",
    "        self.optimizer.zero_grad()\n",
    "        output = self.forward(data)\n",
    "        self.loss = nn.functional.binary_cross_entropy_with_logits(output, target)\n",
    "        self.loss.backward()\n",
    "        self.optimizer.step()\n",
    "\n",
    "model = Net().to(device)\n",
    "model"
   ]
  },
  {
   "cell_type": "code",
   "execution_count": 9,
   "metadata": {},
   "outputs": [
    {
     "name": "stdout",
     "output_type": "stream",
     "text": [
      "model.mdl\n"
     ]
    }
   ],
   "source": [
    "MODEL_NAME = \"model.mdl\"\n",
    "if os.path.isfile(MODEL_NAME):\n",
    "    print(MODEL_NAME)\n",
    "    model.load_state_dict(torch.load(MODEL_NAME))"
   ]
  },
  {
   "cell_type": "code",
   "execution_count": 10,
   "metadata": {},
   "outputs": [
    {
     "data": {
      "text/plain": [
       "(3, 32, 160)"
      ]
     },
     "execution_count": 10,
     "metadata": {},
     "output_type": "execute_result"
    }
   ],
   "source": [
    "im.shape"
   ]
  },
  {
   "cell_type": "code",
   "execution_count": 11,
   "metadata": {},
   "outputs": [],
   "source": [
    "x = torch.randn(64, 3, 32, 160).to(device)\n",
    "y = model.forward(x)"
   ]
  },
  {
   "cell_type": "code",
   "execution_count": 12,
   "metadata": {},
   "outputs": [],
   "source": [
    "def predictModel(model, test):\n",
    "    model.eval()\n",
    "    with torch.no_grad():\n",
    "        testX = torch.from_numpy(test).float().to(device)\n",
    "        predict = model(testX).cpu()\n",
    "    predict = np.where(predict > 0, 1, 0)\n",
    "    return predict"
   ]
  },
  {
   "cell_type": "code",
   "execution_count": 13,
   "metadata": {},
   "outputs": [
    {
     "data": {
      "text/plain": [
       "8740"
      ]
     },
     "execution_count": 13,
     "metadata": {},
     "output_type": "execute_result"
    }
   ],
   "source": [
    "# read training data\n",
    "ccfiles = glob.glob(\"TEMP/CC/*.jpg\")\n",
    "n = len(ccfiles)\n",
    "n"
   ]
  },
  {
   "cell_type": "code",
   "execution_count": 14,
   "metadata": {},
   "outputs": [],
   "source": [
    "def classified(files):\n",
    "    n = len(files)\n",
    "    test = np.zeros((n, 3, 32, 160), dtype=np.float)\n",
    "    for i in range(n):\n",
    "        fname = files[i]\n",
    "        test[i, :, :, :] = normalize(Image.open(fname))\n",
    "        \n",
    "    y = predictModel(model, test)\n",
    "    \n",
    "    for i in range(n):\n",
    "        fname = files[i]\n",
    "        if y[i] == 1:\n",
    "            outfile = fname.replace('CC\\\\', 'CC1\\\\')\n",
    "            shutil.copyfile(fname, outfile)\n",
    "\n",
    "\n",
    "M = (n + 1023) // 1024\n",
    "for i in range(M):\n",
    "    if i == M-1:\n",
    "        files = ccfiles[i*1024:]\n",
    "    else:\n",
    "        files = ccfiles[i*1024:(i+1)*1024]\n",
    "\n",
    "    classified(files)"
   ]
  },
  {
   "cell_type": "code",
   "execution_count": 15,
   "metadata": {},
   "outputs": [
    {
     "data": {
      "text/plain": [
       "2454"
      ]
     },
     "execution_count": 15,
     "metadata": {},
     "output_type": "execute_result"
    }
   ],
   "source": [
    "ccfiles = glob.glob(\"TEMP/CC1/*.jpg\")\n",
    "n = len(ccfiles)\n",
    "n"
   ]
  },
  {
   "cell_type": "code",
   "execution_count": 16,
   "metadata": {},
   "outputs": [],
   "source": [
    "def get_concat_v(im1, im2):\n",
    "    dst = Image.new('RGB', (im1.width, im1.height + im2.height))\n",
    "    dst.paste(im1, (0, 0))\n",
    "    dst.paste(im2, (0, im1.height))\n",
    "    return dst\n",
    "\n",
    "for i in range(n-1):\n",
    "    fname = ccfiles[i]\n",
    "    x1 = Image.open(ccfiles[i])\n",
    "    x2 = Image.open(ccfiles[i+1])\n",
    "    x = get_concat_v(x1, x2)\n",
    "    outfile = fname.replace('CC1\\\\', 'CC2\\\\')\n",
    "    x.save(outfile)"
   ]
  },
  {
   "cell_type": "code",
   "execution_count": 17,
   "metadata": {},
   "outputs": [
    {
     "data": {
      "text/plain": [
       "'TEMP/CC1\\\\frame000004.jpg'"
      ]
     },
     "execution_count": 17,
     "metadata": {},
     "output_type": "execute_result"
    }
   ],
   "source": [
    "ccfiles[0]"
   ]
  },
  {
   "cell_type": "code",
   "execution_count": null,
   "metadata": {},
   "outputs": [],
   "source": []
  }
 ],
 "metadata": {
  "kernelspec": {
   "display_name": "Python 3",
   "language": "python",
   "name": "python3"
  },
  "language_info": {
   "codemirror_mode": {
    "name": "ipython",
    "version": 3
   },
   "file_extension": ".py",
   "mimetype": "text/x-python",
   "name": "python",
   "nbconvert_exporter": "python",
   "pygments_lexer": "ipython3",
   "version": "3.7.4"
  }
 },
 "nbformat": 4,
 "nbformat_minor": 2
}
